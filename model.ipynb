{
  "cells": [
    {
      "cell_type": "markdown",
      "metadata": {
        "id": "view-in-github",
        "colab_type": "text"
      },
      "source": [
        "<a href=\"https://colab.research.google.com/github/Karczel/01219114-2022f-w8-bag/blob/main/model.ipynb\" target=\"_parent\"><img src=\"https://colab.research.google.com/assets/colab-badge.svg\" alt=\"Open In Colab\"/></a>"
      ]
    },
    {
      "cell_type": "code",
      "execution_count": 1,
      "metadata": {
        "id": "AXfysQWAWIBn",
        "outputId": "4cc58294-117c-45df-a8bf-856510a12b9a",
        "colab": {
          "base_uri": "https://localhost:8080/"
        }
      },
      "outputs": [
        {
          "output_type": "stream",
          "name": "stdout",
          "text": [
            "Requirement already satisfied: pycaret in /usr/local/lib/python3.11/dist-packages (3.3.2)\n",
            "Requirement already satisfied: feature-engine in /usr/local/lib/python3.11/dist-packages (1.6.2)\n",
            "Requirement already satisfied: imbalanced-learn in /usr/local/lib/python3.11/dist-packages (0.13.0)\n",
            "Requirement already satisfied: folium in /usr/local/lib/python3.11/dist-packages (0.19.5)\n",
            "Requirement already satisfied: mapclassify in /usr/local/lib/python3.11/dist-packages (2.8.1)\n",
            "Requirement already satisfied: ipython>=5.5.0 in /usr/local/lib/python3.11/dist-packages (from pycaret) (7.34.0)\n",
            "Requirement already satisfied: ipywidgets>=7.6.5 in /usr/local/lib/python3.11/dist-packages (from pycaret) (7.7.1)\n",
            "Requirement already satisfied: tqdm>=4.62.0 in /usr/local/lib/python3.11/dist-packages (from pycaret) (4.67.1)\n",
            "Requirement already satisfied: numpy<1.27,>=1.21 in /usr/local/lib/python3.11/dist-packages (from pycaret) (1.26.4)\n",
            "Requirement already satisfied: pandas<2.2.0 in /usr/local/lib/python3.11/dist-packages (from pycaret) (2.1.4)\n",
            "Requirement already satisfied: jinja2>=3 in /usr/local/lib/python3.11/dist-packages (from pycaret) (3.1.6)\n",
            "Requirement already satisfied: scipy<=1.11.4,>=1.6.1 in /usr/local/lib/python3.11/dist-packages (from pycaret) (1.11.4)\n",
            "Requirement already satisfied: joblib<1.4,>=1.2.0 in /usr/local/lib/python3.11/dist-packages (from pycaret) (1.3.2)\n",
            "Requirement already satisfied: scikit-learn>1.4.0 in /usr/local/lib/python3.11/dist-packages (from pycaret) (1.4.2)\n",
            "Requirement already satisfied: pyod>=1.1.3 in /usr/local/lib/python3.11/dist-packages (from pycaret) (2.0.4)\n",
            "Requirement already satisfied: category-encoders>=2.4.0 in /usr/local/lib/python3.11/dist-packages (from pycaret) (2.7.0)\n",
            "Requirement already satisfied: lightgbm>=3.0.0 in /usr/local/lib/python3.11/dist-packages (from pycaret) (4.5.0)\n",
            "Requirement already satisfied: numba>=0.55.0 in /usr/local/lib/python3.11/dist-packages (from pycaret) (0.60.0)\n",
            "Requirement already satisfied: requests>=2.27.1 in /usr/local/lib/python3.11/dist-packages (from pycaret) (2.32.3)\n",
            "Requirement already satisfied: psutil>=5.9.0 in /usr/local/lib/python3.11/dist-packages (from pycaret) (5.9.5)\n",
            "Requirement already satisfied: markupsafe>=2.0.1 in /usr/local/lib/python3.11/dist-packages (from pycaret) (3.0.2)\n",
            "Requirement already satisfied: importlib-metadata>=4.12.0 in /usr/local/lib/python3.11/dist-packages (from pycaret) (8.6.1)\n",
            "Requirement already satisfied: nbformat>=4.2.0 in /usr/local/lib/python3.11/dist-packages (from pycaret) (5.10.4)\n",
            "Requirement already satisfied: cloudpickle in /usr/local/lib/python3.11/dist-packages (from pycaret) (3.1.1)\n",
            "Requirement already satisfied: deprecation>=2.1.0 in /usr/local/lib/python3.11/dist-packages (from pycaret) (2.1.0)\n",
            "Requirement already satisfied: xxhash in /usr/local/lib/python3.11/dist-packages (from pycaret) (3.5.0)\n",
            "Requirement already satisfied: matplotlib<3.8.0 in /usr/local/lib/python3.11/dist-packages (from pycaret) (3.7.5)\n",
            "Requirement already satisfied: scikit-plot>=0.3.7 in /usr/local/lib/python3.11/dist-packages (from pycaret) (0.3.7)\n",
            "Requirement already satisfied: yellowbrick>=1.4 in /usr/local/lib/python3.11/dist-packages (from pycaret) (1.5)\n",
            "Requirement already satisfied: plotly>=5.14.0 in /usr/local/lib/python3.11/dist-packages (from pycaret) (5.24.1)\n",
            "Requirement already satisfied: kaleido>=0.2.1 in /usr/local/lib/python3.11/dist-packages (from pycaret) (0.2.1)\n",
            "Requirement already satisfied: schemdraw==0.15 in /usr/local/lib/python3.11/dist-packages (from pycaret) (0.15)\n",
            "Requirement already satisfied: plotly-resampler>=0.8.3.1 in /usr/local/lib/python3.11/dist-packages (from pycaret) (0.10.0)\n",
            "Requirement already satisfied: statsmodels>=0.12.1 in /usr/local/lib/python3.11/dist-packages (from pycaret) (0.14.4)\n",
            "Requirement already satisfied: sktime==0.26.0 in /usr/local/lib/python3.11/dist-packages (from pycaret) (0.26.0)\n",
            "Requirement already satisfied: tbats>=1.1.3 in /usr/local/lib/python3.11/dist-packages (from pycaret) (1.1.3)\n",
            "Requirement already satisfied: pmdarima>=2.0.4 in /usr/local/lib/python3.11/dist-packages (from pycaret) (2.0.4)\n",
            "Requirement already satisfied: wurlitzer in /usr/local/lib/python3.11/dist-packages (from pycaret) (3.1.1)\n",
            "Requirement already satisfied: packaging in /usr/local/lib/python3.11/dist-packages (from sktime==0.26.0->pycaret) (24.2)\n",
            "Requirement already satisfied: scikit-base<0.8.0 in /usr/local/lib/python3.11/dist-packages (from sktime==0.26.0->pycaret) (0.7.8)\n",
            "Requirement already satisfied: sklearn-compat<1,>=0.1 in /usr/local/lib/python3.11/dist-packages (from imbalanced-learn) (0.1.3)\n",
            "Requirement already satisfied: threadpoolctl<4,>=2.0.0 in /usr/local/lib/python3.11/dist-packages (from imbalanced-learn) (3.6.0)\n",
            "Requirement already satisfied: branca>=0.6.0 in /usr/local/lib/python3.11/dist-packages (from folium) (0.8.1)\n",
            "Requirement already satisfied: xyzservices in /usr/local/lib/python3.11/dist-packages (from folium) (2025.1.0)\n",
            "Requirement already satisfied: networkx>=2.7 in /usr/local/lib/python3.11/dist-packages (from mapclassify) (3.4.2)\n",
            "Requirement already satisfied: patsy>=0.5.1 in /usr/local/lib/python3.11/dist-packages (from category-encoders>=2.4.0->pycaret) (1.0.1)\n",
            "Requirement already satisfied: zipp>=3.20 in /usr/local/lib/python3.11/dist-packages (from importlib-metadata>=4.12.0->pycaret) (3.21.0)\n",
            "Requirement already satisfied: setuptools>=18.5 in /usr/local/lib/python3.11/dist-packages (from ipython>=5.5.0->pycaret) (75.2.0)\n",
            "Requirement already satisfied: jedi>=0.16 in /usr/local/lib/python3.11/dist-packages (from ipython>=5.5.0->pycaret) (0.19.2)\n",
            "Requirement already satisfied: decorator in /usr/local/lib/python3.11/dist-packages (from ipython>=5.5.0->pycaret) (4.4.2)\n",
            "Requirement already satisfied: pickleshare in /usr/local/lib/python3.11/dist-packages (from ipython>=5.5.0->pycaret) (0.7.5)\n",
            "Requirement already satisfied: traitlets>=4.2 in /usr/local/lib/python3.11/dist-packages (from ipython>=5.5.0->pycaret) (5.7.1)\n",
            "Requirement already satisfied: prompt-toolkit!=3.0.0,!=3.0.1,<3.1.0,>=2.0.0 in /usr/local/lib/python3.11/dist-packages (from ipython>=5.5.0->pycaret) (3.0.51)\n",
            "Requirement already satisfied: pygments in /usr/local/lib/python3.11/dist-packages (from ipython>=5.5.0->pycaret) (2.18.0)\n",
            "Requirement already satisfied: backcall in /usr/local/lib/python3.11/dist-packages (from ipython>=5.5.0->pycaret) (0.2.0)\n",
            "Requirement already satisfied: matplotlib-inline in /usr/local/lib/python3.11/dist-packages (from ipython>=5.5.0->pycaret) (0.1.7)\n",
            "Requirement already satisfied: pexpect>4.3 in /usr/local/lib/python3.11/dist-packages (from ipython>=5.5.0->pycaret) (4.9.0)\n",
            "Requirement already satisfied: ipykernel>=4.5.1 in /usr/local/lib/python3.11/dist-packages (from ipywidgets>=7.6.5->pycaret) (6.17.1)\n",
            "Requirement already satisfied: ipython-genutils~=0.2.0 in /usr/local/lib/python3.11/dist-packages (from ipywidgets>=7.6.5->pycaret) (0.2.0)\n",
            "Requirement already satisfied: widgetsnbextension~=3.6.0 in /usr/local/lib/python3.11/dist-packages (from ipywidgets>=7.6.5->pycaret) (3.6.10)\n",
            "Requirement already satisfied: jupyterlab-widgets>=1.0.0 in /usr/local/lib/python3.11/dist-packages (from ipywidgets>=7.6.5->pycaret) (3.0.14)\n",
            "Requirement already satisfied: contourpy>=1.0.1 in /usr/local/lib/python3.11/dist-packages (from matplotlib<3.8.0->pycaret) (1.3.2)\n",
            "Requirement already satisfied: cycler>=0.10 in /usr/local/lib/python3.11/dist-packages (from matplotlib<3.8.0->pycaret) (0.12.1)\n",
            "Requirement already satisfied: fonttools>=4.22.0 in /usr/local/lib/python3.11/dist-packages (from matplotlib<3.8.0->pycaret) (4.57.0)\n",
            "Requirement already satisfied: kiwisolver>=1.0.1 in /usr/local/lib/python3.11/dist-packages (from matplotlib<3.8.0->pycaret) (1.4.8)\n",
            "Requirement already satisfied: pillow>=6.2.0 in /usr/local/lib/python3.11/dist-packages (from matplotlib<3.8.0->pycaret) (11.1.0)\n",
            "Requirement already satisfied: pyparsing>=2.3.1 in /usr/local/lib/python3.11/dist-packages (from matplotlib<3.8.0->pycaret) (3.2.3)\n",
            "Requirement already satisfied: python-dateutil>=2.7 in /usr/local/lib/python3.11/dist-packages (from matplotlib<3.8.0->pycaret) (2.8.2)\n",
            "Requirement already satisfied: fastjsonschema>=2.15 in /usr/local/lib/python3.11/dist-packages (from nbformat>=4.2.0->pycaret) (2.21.1)\n",
            "Requirement already satisfied: jsonschema>=2.6 in /usr/local/lib/python3.11/dist-packages (from nbformat>=4.2.0->pycaret) (4.23.0)\n",
            "Requirement already satisfied: jupyter-core!=5.0.*,>=4.12 in /usr/local/lib/python3.11/dist-packages (from nbformat>=4.2.0->pycaret) (5.7.2)\n",
            "Requirement already satisfied: llvmlite<0.44,>=0.43.0dev0 in /usr/local/lib/python3.11/dist-packages (from numba>=0.55.0->pycaret) (0.43.0)\n",
            "Requirement already satisfied: pytz>=2020.1 in /usr/local/lib/python3.11/dist-packages (from pandas<2.2.0->pycaret) (2025.2)\n",
            "Requirement already satisfied: tzdata>=2022.1 in /usr/local/lib/python3.11/dist-packages (from pandas<2.2.0->pycaret) (2025.2)\n",
            "Requirement already satisfied: tenacity>=6.2.0 in /usr/local/lib/python3.11/dist-packages (from plotly>=5.14.0->pycaret) (9.1.2)\n",
            "Requirement already satisfied: dash>=2.9.0 in /usr/local/lib/python3.11/dist-packages (from plotly-resampler>=0.8.3.1->pycaret) (3.0.3)\n",
            "Requirement already satisfied: orjson<4.0.0,>=3.8.0 in /usr/local/lib/python3.11/dist-packages (from plotly-resampler>=0.8.3.1->pycaret) (3.10.16)\n",
            "Requirement already satisfied: tsdownsample>=0.1.3 in /usr/local/lib/python3.11/dist-packages (from plotly-resampler>=0.8.3.1->pycaret) (0.1.4.1)\n",
            "Requirement already satisfied: Cython!=0.29.18,!=0.29.31,>=0.29 in /usr/local/lib/python3.11/dist-packages (from pmdarima>=2.0.4->pycaret) (3.0.12)\n",
            "Requirement already satisfied: urllib3 in /usr/local/lib/python3.11/dist-packages (from pmdarima>=2.0.4->pycaret) (2.3.0)\n",
            "Requirement already satisfied: charset-normalizer<4,>=2 in /usr/local/lib/python3.11/dist-packages (from requests>=2.27.1->pycaret) (3.4.1)\n",
            "Requirement already satisfied: idna<4,>=2.5 in /usr/local/lib/python3.11/dist-packages (from requests>=2.27.1->pycaret) (3.10)\n",
            "Requirement already satisfied: certifi>=2017.4.17 in /usr/local/lib/python3.11/dist-packages (from requests>=2.27.1->pycaret) (2025.1.31)\n",
            "Requirement already satisfied: Flask<3.1,>=1.0.4 in /usr/local/lib/python3.11/dist-packages (from dash>=2.9.0->plotly-resampler>=0.8.3.1->pycaret) (3.0.3)\n",
            "Requirement already satisfied: Werkzeug<3.1 in /usr/local/lib/python3.11/dist-packages (from dash>=2.9.0->plotly-resampler>=0.8.3.1->pycaret) (3.0.6)\n",
            "Requirement already satisfied: typing-extensions>=4.1.1 in /usr/local/lib/python3.11/dist-packages (from dash>=2.9.0->plotly-resampler>=0.8.3.1->pycaret) (4.13.2)\n",
            "Requirement already satisfied: retrying in /usr/local/lib/python3.11/dist-packages (from dash>=2.9.0->plotly-resampler>=0.8.3.1->pycaret) (1.3.4)\n",
            "Requirement already satisfied: nest-asyncio in /usr/local/lib/python3.11/dist-packages (from dash>=2.9.0->plotly-resampler>=0.8.3.1->pycaret) (1.6.0)\n",
            "Requirement already satisfied: debugpy>=1.0 in /usr/local/lib/python3.11/dist-packages (from ipykernel>=4.5.1->ipywidgets>=7.6.5->pycaret) (1.8.0)\n",
            "Requirement already satisfied: jupyter-client>=6.1.12 in /usr/local/lib/python3.11/dist-packages (from ipykernel>=4.5.1->ipywidgets>=7.6.5->pycaret) (6.1.12)\n",
            "Requirement already satisfied: pyzmq>=17 in /usr/local/lib/python3.11/dist-packages (from ipykernel>=4.5.1->ipywidgets>=7.6.5->pycaret) (24.0.1)\n",
            "Requirement already satisfied: tornado>=6.1 in /usr/local/lib/python3.11/dist-packages (from ipykernel>=4.5.1->ipywidgets>=7.6.5->pycaret) (6.4.2)\n",
            "Requirement already satisfied: parso<0.9.0,>=0.8.4 in /usr/local/lib/python3.11/dist-packages (from jedi>=0.16->ipython>=5.5.0->pycaret) (0.8.4)\n",
            "Requirement already satisfied: attrs>=22.2.0 in /usr/local/lib/python3.11/dist-packages (from jsonschema>=2.6->nbformat>=4.2.0->pycaret) (25.3.0)\n",
            "Requirement already satisfied: jsonschema-specifications>=2023.03.6 in /usr/local/lib/python3.11/dist-packages (from jsonschema>=2.6->nbformat>=4.2.0->pycaret) (2024.10.1)\n",
            "Requirement already satisfied: referencing>=0.28.4 in /usr/local/lib/python3.11/dist-packages (from jsonschema>=2.6->nbformat>=4.2.0->pycaret) (0.36.2)\n",
            "Requirement already satisfied: rpds-py>=0.7.1 in /usr/local/lib/python3.11/dist-packages (from jsonschema>=2.6->nbformat>=4.2.0->pycaret) (0.24.0)\n",
            "Requirement already satisfied: platformdirs>=2.5 in /usr/local/lib/python3.11/dist-packages (from jupyter-core!=5.0.*,>=4.12->nbformat>=4.2.0->pycaret) (4.3.7)\n",
            "Requirement already satisfied: ptyprocess>=0.5 in /usr/local/lib/python3.11/dist-packages (from pexpect>4.3->ipython>=5.5.0->pycaret) (0.7.0)\n",
            "Requirement already satisfied: wcwidth in /usr/local/lib/python3.11/dist-packages (from prompt-toolkit!=3.0.0,!=3.0.1,<3.1.0,>=2.0.0->ipython>=5.5.0->pycaret) (0.2.13)\n",
            "Requirement already satisfied: six>=1.5 in /usr/local/lib/python3.11/dist-packages (from python-dateutil>=2.7->matplotlib<3.8.0->pycaret) (1.17.0)\n",
            "Requirement already satisfied: notebook>=4.4.1 in /usr/local/lib/python3.11/dist-packages (from widgetsnbextension~=3.6.0->ipywidgets>=7.6.5->pycaret) (6.5.7)\n",
            "Requirement already satisfied: itsdangerous>=2.1.2 in /usr/local/lib/python3.11/dist-packages (from Flask<3.1,>=1.0.4->dash>=2.9.0->plotly-resampler>=0.8.3.1->pycaret) (2.2.0)\n",
            "Requirement already satisfied: click>=8.1.3 in /usr/local/lib/python3.11/dist-packages (from Flask<3.1,>=1.0.4->dash>=2.9.0->plotly-resampler>=0.8.3.1->pycaret) (8.1.8)\n",
            "Requirement already satisfied: blinker>=1.6.2 in /usr/local/lib/python3.11/dist-packages (from Flask<3.1,>=1.0.4->dash>=2.9.0->plotly-resampler>=0.8.3.1->pycaret) (1.9.0)\n",
            "Requirement already satisfied: argon2-cffi in /usr/local/lib/python3.11/dist-packages (from notebook>=4.4.1->widgetsnbextension~=3.6.0->ipywidgets>=7.6.5->pycaret) (23.1.0)\n",
            "Requirement already satisfied: nbconvert>=5 in /usr/local/lib/python3.11/dist-packages (from notebook>=4.4.1->widgetsnbextension~=3.6.0->ipywidgets>=7.6.5->pycaret) (7.16.6)\n",
            "Requirement already satisfied: Send2Trash>=1.8.0 in /usr/local/lib/python3.11/dist-packages (from notebook>=4.4.1->widgetsnbextension~=3.6.0->ipywidgets>=7.6.5->pycaret) (1.8.3)\n",
            "Requirement already satisfied: terminado>=0.8.3 in /usr/local/lib/python3.11/dist-packages (from notebook>=4.4.1->widgetsnbextension~=3.6.0->ipywidgets>=7.6.5->pycaret) (0.18.1)\n",
            "Requirement already satisfied: prometheus-client in /usr/local/lib/python3.11/dist-packages (from notebook>=4.4.1->widgetsnbextension~=3.6.0->ipywidgets>=7.6.5->pycaret) (0.21.1)\n",
            "Requirement already satisfied: nbclassic>=0.4.7 in /usr/local/lib/python3.11/dist-packages (from notebook>=4.4.1->widgetsnbextension~=3.6.0->ipywidgets>=7.6.5->pycaret) (1.2.0)\n",
            "Requirement already satisfied: notebook-shim>=0.2.3 in /usr/local/lib/python3.11/dist-packages (from nbclassic>=0.4.7->notebook>=4.4.1->widgetsnbextension~=3.6.0->ipywidgets>=7.6.5->pycaret) (0.2.4)\n",
            "Requirement already satisfied: beautifulsoup4 in /usr/local/lib/python3.11/dist-packages (from nbconvert>=5->notebook>=4.4.1->widgetsnbextension~=3.6.0->ipywidgets>=7.6.5->pycaret) (4.13.4)\n",
            "Requirement already satisfied: bleach!=5.0.0 in /usr/local/lib/python3.11/dist-packages (from bleach[css]!=5.0.0->nbconvert>=5->notebook>=4.4.1->widgetsnbextension~=3.6.0->ipywidgets>=7.6.5->pycaret) (6.2.0)\n",
            "Requirement already satisfied: defusedxml in /usr/local/lib/python3.11/dist-packages (from nbconvert>=5->notebook>=4.4.1->widgetsnbextension~=3.6.0->ipywidgets>=7.6.5->pycaret) (0.7.1)\n",
            "Requirement already satisfied: jupyterlab-pygments in /usr/local/lib/python3.11/dist-packages (from nbconvert>=5->notebook>=4.4.1->widgetsnbextension~=3.6.0->ipywidgets>=7.6.5->pycaret) (0.3.0)\n",
            "Requirement already satisfied: mistune<4,>=2.0.3 in /usr/local/lib/python3.11/dist-packages (from nbconvert>=5->notebook>=4.4.1->widgetsnbextension~=3.6.0->ipywidgets>=7.6.5->pycaret) (3.1.3)\n",
            "Requirement already satisfied: nbclient>=0.5.0 in /usr/local/lib/python3.11/dist-packages (from nbconvert>=5->notebook>=4.4.1->widgetsnbextension~=3.6.0->ipywidgets>=7.6.5->pycaret) (0.10.2)\n",
            "Requirement already satisfied: pandocfilters>=1.4.1 in /usr/local/lib/python3.11/dist-packages (from nbconvert>=5->notebook>=4.4.1->widgetsnbextension~=3.6.0->ipywidgets>=7.6.5->pycaret) (1.5.1)\n",
            "Requirement already satisfied: argon2-cffi-bindings in /usr/local/lib/python3.11/dist-packages (from argon2-cffi->notebook>=4.4.1->widgetsnbextension~=3.6.0->ipywidgets>=7.6.5->pycaret) (21.2.0)\n",
            "Requirement already satisfied: webencodings in /usr/local/lib/python3.11/dist-packages (from bleach!=5.0.0->bleach[css]!=5.0.0->nbconvert>=5->notebook>=4.4.1->widgetsnbextension~=3.6.0->ipywidgets>=7.6.5->pycaret) (0.5.1)\n",
            "Requirement already satisfied: tinycss2<1.5,>=1.1.0 in /usr/local/lib/python3.11/dist-packages (from bleach[css]!=5.0.0->nbconvert>=5->notebook>=4.4.1->widgetsnbextension~=3.6.0->ipywidgets>=7.6.5->pycaret) (1.4.0)\n",
            "Requirement already satisfied: jupyter-server<3,>=1.8 in /usr/local/lib/python3.11/dist-packages (from notebook-shim>=0.2.3->nbclassic>=0.4.7->notebook>=4.4.1->widgetsnbextension~=3.6.0->ipywidgets>=7.6.5->pycaret) (1.16.0)\n",
            "Requirement already satisfied: cffi>=1.0.1 in /usr/local/lib/python3.11/dist-packages (from argon2-cffi-bindings->argon2-cffi->notebook>=4.4.1->widgetsnbextension~=3.6.0->ipywidgets>=7.6.5->pycaret) (1.17.1)\n",
            "Requirement already satisfied: soupsieve>1.2 in /usr/local/lib/python3.11/dist-packages (from beautifulsoup4->nbconvert>=5->notebook>=4.4.1->widgetsnbextension~=3.6.0->ipywidgets>=7.6.5->pycaret) (2.6)\n",
            "Requirement already satisfied: pycparser in /usr/local/lib/python3.11/dist-packages (from cffi>=1.0.1->argon2-cffi-bindings->argon2-cffi->notebook>=4.4.1->widgetsnbextension~=3.6.0->ipywidgets>=7.6.5->pycaret) (2.22)\n",
            "Requirement already satisfied: anyio>=3.1.0 in /usr/local/lib/python3.11/dist-packages (from jupyter-server<3,>=1.8->notebook-shim>=0.2.3->nbclassic>=0.4.7->notebook>=4.4.1->widgetsnbextension~=3.6.0->ipywidgets>=7.6.5->pycaret) (4.9.0)\n",
            "Requirement already satisfied: websocket-client in /usr/local/lib/python3.11/dist-packages (from jupyter-server<3,>=1.8->notebook-shim>=0.2.3->nbclassic>=0.4.7->notebook>=4.4.1->widgetsnbextension~=3.6.0->ipywidgets>=7.6.5->pycaret) (1.8.0)\n",
            "Requirement already satisfied: sniffio>=1.1 in /usr/local/lib/python3.11/dist-packages (from anyio>=3.1.0->jupyter-server<3,>=1.8->notebook-shim>=0.2.3->nbclassic>=0.4.7->notebook>=4.4.1->widgetsnbextension~=3.6.0->ipywidgets>=7.6.5->pycaret) (1.3.1)\n"
          ]
        }
      ],
      "source": [
        "!pip install pycaret feature-engine imbalanced-learn folium mapclassify"
      ]
    },
    {
      "cell_type": "code",
      "execution_count": 2,
      "metadata": {
        "id": "fyZdUYdPHDnI"
      },
      "outputs": [],
      "source": [
        "import os\n",
        "import numpy as np\n",
        "import pandas as pd\n",
        "os.environ['USE_PYGEOS'] = '0'\n",
        "import geopandas as gpd\n",
        "import pickle\n",
        "\n",
        "import pycaret\n",
        "from pycaret.regression import *\n",
        "\n",
        "import sklearn\n",
        "from sklearn import set_config\n",
        "from sklearn.impute import SimpleImputer\n",
        "from sklearn.preprocessing import OneHotEncoder, StandardScaler, MinMaxScaler, RobustScaler\n",
        "from sklearn.pipeline import Pipeline, make_pipeline\n",
        "from sklearn.compose import ColumnTransformer, make_column_selector\n",
        "from sklearn.feature_selection import SelectKBest, SelectPercentile, mutual_info_regression, f_regression\n",
        "\n",
        "from imblearn.pipeline import Pipeline as imbPipeline\n",
        "\n",
        "import feature_engine\n",
        "from feature_engine.selection import DropFeatures, DropConstantFeatures, DropDuplicateFeatures, DropCorrelatedFeatures\n",
        "from feature_engine.imputation import MeanMedianImputer, RandomSampleImputer, CategoricalImputer\n",
        "from feature_engine.outliers import OutlierTrimmer\n",
        "from feature_engine.transformation import YeoJohnsonTransformer, LogCpTransformer\n",
        "from feature_engine.encoding import OneHotEncoder as Ohe\n",
        "\n",
        "from sklearn.neighbors import KNeighborsRegressor\n",
        "from sklearn.ensemble import RandomForestRegressor, GradientBoostingRegressor, VotingRegressor\n",
        "from sklearn.model_selection import train_test_split, RandomizedSearchCV, GridSearchCV\n",
        "\n",
        "import warnings\n",
        "warnings.filterwarnings('ignore')\n",
        "\n",
        "set_config(display='diagram')\n",
        "\n",
        "pd.options.display.max_rows = 999999\n",
        "pd.options.display.max_columns = 999999\n",
        "pd.set_option('display.float_format', lambda x: '%.03f' % x)"
      ]
    },
    {
      "cell_type": "code",
      "execution_count": 3,
      "metadata": {
        "id": "yRDepphtP9mj",
        "outputId": "40ccd87d-e410-4af3-9ff8-98e399771847",
        "colab": {
          "base_uri": "https://localhost:8080/"
        }
      },
      "outputs": [
        {
          "output_type": "stream",
          "name": "stdout",
          "text": [
            "2.1.4\n",
            "1.0.1\n",
            "3.3.2\n"
          ]
        }
      ],
      "source": [
        "print(pd.__version__)\n",
        "print(gpd.__version__)\n",
        "print(pycaret.__version__)"
      ]
    },
    {
      "cell_type": "markdown",
      "metadata": {
        "id": "t9KL6f7eQAt7"
      },
      "source": [
        "# Mount Drive"
      ]
    },
    {
      "cell_type": "code",
      "execution_count": null,
      "metadata": {
        "id": "6ng2zNSUQD5U"
      },
      "outputs": [],
      "source": [
        "from google.colab import drive\n",
        "drive.mount('/content/drive', force_remount=True)"
      ]
    },
    {
      "cell_type": "markdown",
      "metadata": {
        "id": "sUksUCg-Q_tk"
      },
      "source": [
        "# Read Data"
      ]
    },
    {
      "cell_type": "code",
      "execution_count": null,
      "metadata": {
        "id": "oHI3GRPvrkn0"
      },
      "outputs": [],
      "source": [
        "df = pd.read_excel('raw_dataset_eng.xlsx')\n",
        "df.columns = [col.lower() for col in df.columns]\n",
        "print(df.shape)\n",
        "df[:3]"
      ]
    },
    {
      "cell_type": "code",
      "execution_count": null,
      "metadata": {
        "id": "xeUS_i9Pw_Xr"
      },
      "outputs": [],
      "source": [
        "df.info()"
      ]
    },
    {
      "cell_type": "code",
      "execution_count": null,
      "metadata": {
        "id": "iqblOnRBP4Rk"
      },
      "outputs": [],
      "source": [
        "df.isna().sum()"
      ]
    },
    {
      "cell_type": "code",
      "execution_count": null,
      "metadata": {
        "id": "JWqcEM2gP4US"
      },
      "outputs": [],
      "source": [
        "df = df[df['date'] != 0].reset_index(drop=True)"
      ]
    },
    {
      "cell_type": "code",
      "execution_count": null,
      "metadata": {
        "id": "Akg_aAkmxIpD"
      },
      "outputs": [],
      "source": [
        "df['date'] = pd.to_datetime(df['date'], format='%Y%m%d')"
      ]
    },
    {
      "cell_type": "code",
      "execution_count": null,
      "metadata": {
        "id": "Bn_tQlJ-wBVm"
      },
      "outputs": [],
      "source": [
        "df = df.sort_values(by='date').reset_index(drop=True)"
      ]
    },
    {
      "cell_type": "code",
      "execution_count": null,
      "metadata": {
        "id": "3-GqeqeAxTpR"
      },
      "outputs": [],
      "source": [
        "df[:3]"
      ]
    },
    {
      "cell_type": "code",
      "execution_count": null,
      "metadata": {
        "id": "TgRyLssyxZh6"
      },
      "outputs": [],
      "source": [
        "df = df.drop(index=[0])"
      ]
    },
    {
      "cell_type": "code",
      "execution_count": null,
      "metadata": {
        "id": "jR5DH9vsxixB"
      },
      "outputs": [],
      "source": [
        "df.head()"
      ]
    },
    {
      "cell_type": "code",
      "execution_count": null,
      "metadata": {
        "id": "V-pRGAxRxv2r"
      },
      "outputs": [],
      "source": [
        "df.tail()"
      ]
    },
    {
      "cell_type": "code",
      "execution_count": null,
      "metadata": {
        "id": "jmLQXd_W2EGd"
      },
      "outputs": [],
      "source": [
        "df.info()"
      ]
    },
    {
      "cell_type": "code",
      "execution_count": null,
      "metadata": {
        "id": "LM4vijMOxo7B"
      },
      "outputs": [],
      "source": [
        "del df['id'], df['date']"
      ]
    },
    {
      "cell_type": "code",
      "execution_count": null,
      "metadata": {
        "id": "DLVEbuD_10mg"
      },
      "outputs": [],
      "source": [
        "df = df.rename(columns={'house_price': 'target'})"
      ]
    },
    {
      "cell_type": "code",
      "execution_count": null,
      "metadata": {
        "id": "IFlw0n7fxHWc"
      },
      "outputs": [],
      "source": [
        "df.shape"
      ]
    },
    {
      "cell_type": "markdown",
      "metadata": {
        "id": "NbSERlGgT4xG"
      },
      "source": [
        "# Visualization"
      ]
    },
    {
      "cell_type": "code",
      "execution_count": null,
      "metadata": {
        "id": "47fBC3MNT6I2"
      },
      "outputs": [],
      "source": [
        "gdf = gpd.GeoDataFrame(df, geometry=gpd.points_from_xy(df.longitude, df.latitude), crs='EPSG:4326')\n",
        "gdf = gdf.to_crs(epsg=24047)\n",
        "print(gdf.shape)"
      ]
    },
    {
      "cell_type": "code",
      "execution_count": null,
      "metadata": {
        "id": "IChgALmQT8WG"
      },
      "outputs": [],
      "source": [
        "gdf.explore()"
      ]
    },
    {
      "cell_type": "markdown",
      "metadata": {
        "id": "p1WcGrE2T_Et"
      },
      "source": [
        "# Some clean"
      ]
    },
    {
      "cell_type": "code",
      "execution_count": null,
      "metadata": {
        "id": "f60QpFtIUBXF"
      },
      "outputs": [],
      "source": [
        "# Data cleansing - out-of-bound deletion\n",
        "\n",
        "boundary = gpd.read_file('Nonthaburi.shp')\n",
        "boundary = boundary.to_crs(gdf.crs.to_string())\n",
        "boundary = boundary[['geometry']]\n",
        "\n",
        "gdf = gpd.sjoin(gdf, boundary, how='left', predicate='within')\n",
        "gdf = gdf.dropna(subset=['index_right'])\n",
        "del gdf['index_right']\n",
        "print(gdf.shape)\n",
        "gdf[:3]"
      ]
    },
    {
      "cell_type": "code",
      "execution_count": null,
      "metadata": {
        "id": "EaYKqbAo8STH"
      },
      "outputs": [],
      "source": [
        "# Remove some outliers\n",
        "\n",
        "def remove_outliers(df, field_name):\n",
        "    q25 = np.nanpercentile(df[field_name], 25)\n",
        "    q75 = np.nanpercentile(df[field_name], 75)\n",
        "    iqr = q75 - q25\n",
        "    upperbound = q75 + iqr * 1.5\n",
        "    lowerbound = q25 - iqr * 1.5\n",
        "\n",
        "    df = df[(df[field_name] <= upperbound) & (df[field_name] >= lowerbound)]\n",
        "\n",
        "    return df.reset_index(drop=True)\n",
        "\n",
        "gdf = remove_outliers(gdf, 'target')\n",
        "gdf.shape"
      ]
    },
    {
      "cell_type": "code",
      "execution_count": null,
      "metadata": {
        "id": "8jibzxFoeKwE"
      },
      "outputs": [],
      "source": [
        "gdf.drop(columns=['geometry']).to_csv('initial_data.csv', index=False)"
      ]
    },
    {
      "cell_type": "code",
      "execution_count": null,
      "metadata": {
        "id": "uGcCcUQzdefp"
      },
      "outputs": [],
      "source": [
        "from google.colab import files\n",
        "files.download('/content/initial_data.csv')"
      ]
    },
    {
      "cell_type": "code",
      "execution_count": null,
      "metadata": {
        "id": "JM3NtiuMUBgN"
      },
      "outputs": [],
      "source": [
        "m = gdf.explore(column='target', cmap='Reds')\n",
        "boundary.explore(m=m, style_kwds={'stroke': True, 'color': 'black', 'fill': False, 'fillOpacity': 0})\n",
        "m"
      ]
    },
    {
      "cell_type": "markdown",
      "metadata": {
        "id": "xUCQThpvQ72T"
      },
      "source": [
        "# Find Promising Algorithm"
      ]
    },
    {
      "cell_type": "code",
      "execution_count": null,
      "metadata": {
        "id": "UeUUeTdGQ-3D"
      },
      "outputs": [],
      "source": [
        "s = setup(gdf.drop(columns=['geometry']), target='target', fold=2, session_id=123)"
      ]
    },
    {
      "cell_type": "code",
      "execution_count": null,
      "metadata": {
        "id": "1EWGG-g_RRzT"
      },
      "outputs": [],
      "source": [
        "best = compare_models()"
      ]
    },
    {
      "cell_type": "code",
      "execution_count": null,
      "metadata": {
        "id": "kLYYSRG0YlrY"
      },
      "outputs": [],
      "source": [
        "rf = create_model('rf')\n",
        "rf"
      ]
    },
    {
      "cell_type": "code",
      "execution_count": null,
      "metadata": {
        "id": "hphLmoQjTIlh"
      },
      "outputs": [],
      "source": [
        "plot_model(rf, plot='residuals')"
      ]
    },
    {
      "cell_type": "code",
      "execution_count": null,
      "metadata": {
        "id": "d2mGmdsyXizE"
      },
      "outputs": [],
      "source": [
        "plot_model(rf, plot='error')"
      ]
    },
    {
      "cell_type": "markdown",
      "metadata": {
        "id": "m7893ripyj_L"
      },
      "source": [
        "# Pipeline Model"
      ]
    },
    {
      "cell_type": "markdown",
      "metadata": {
        "id": "qVJ7rtc8yubx"
      },
      "source": [
        "## Custom Transformer Class"
      ]
    },
    {
      "cell_type": "code",
      "execution_count": null,
      "metadata": {
        "id": "uuu-yhLTyl6K"
      },
      "outputs": [],
      "source": [
        "from sklearn.base import BaseEstimator, TransformerMixin\n",
        "\n",
        "class QualityTransformer(TransformerMixin):\n",
        "  def __init__(self):\n",
        "    self.mapper = {'very bad': 1, 'bad': 2, 'fair': 3, 'good': 4, 'very good': 5}\n",
        "\n",
        "  def fit(self, X, y=None):\n",
        "    return self\n",
        "\n",
        "  def transform(self, X, y=None):\n",
        "    _X = X.copy()\n",
        "    _X['quality'] = _X['quality'].map(self.mapper)\n",
        "\n",
        "    return _X"
      ]
    },
    {
      "cell_type": "markdown",
      "metadata": {
        "id": "39_K1vPLyy6x"
      },
      "source": [
        "## Train-Test-Split"
      ]
    },
    {
      "cell_type": "code",
      "execution_count": null,
      "metadata": {
        "id": "PHA1EvtXymUb"
      },
      "outputs": [],
      "source": [
        "X = df.drop(columns=['target'])\n",
        "y = df['target']\n",
        "\n",
        "X_train, X_test, y_train, y_test = train_test_split(X, y, test_size=0.2, shuffle=True, random_state=0)\n",
        "print(X_train.shape)\n",
        "print(X_test.shape)\n",
        "print(y_train.shape)\n",
        "print(y_test.shape)"
      ]
    },
    {
      "cell_type": "code",
      "execution_count": null,
      "metadata": {
        "id": "cN2QN-JjymWo"
      },
      "outputs": [],
      "source": [
        "X_train[:1]"
      ]
    },
    {
      "cell_type": "markdown",
      "metadata": {
        "id": "zcvkO3aVzdm8"
      },
      "source": [
        "## Pipeline - Basic"
      ]
    },
    {
      "cell_type": "code",
      "execution_count": null,
      "metadata": {
        "id": "mV1j55lqymZH"
      },
      "outputs": [],
      "source": [
        "num_cols = df.drop(columns=['target']).select_dtypes(include=['int', 'float']).columns.tolist()\n",
        "cat_cols = df.drop(columns=['target']).select_dtypes(include=['object']).columns.tolist()\n",
        "\n",
        "print(num_cols)\n",
        "print(cat_cols)"
      ]
    },
    {
      "cell_type": "code",
      "execution_count": null,
      "metadata": {
        "id": "Zdh14eddziSc"
      },
      "outputs": [],
      "source": [
        "num_pipeline = Pipeline(steps=[\n",
        "                                ('impute', SimpleImputer(strategy='mean')),\n",
        "                                ('robust_scale', RobustScaler())\n",
        "                            ])\n",
        "cat_pipeline = Pipeline(steps=[\n",
        "                                ('impute', SimpleImputer(strategy='most_frequent')),\n",
        "                                ('ohe', OneHotEncoder(handle_unknown='ignore', sparse_output=False))\n",
        "                            ])"
      ]
    },
    {
      "cell_type": "code",
      "execution_count": null,
      "metadata": {
        "id": "fsvS_xz0ziU2"
      },
      "outputs": [],
      "source": [
        "col_trans = ColumnTransformer(transformers=[\n",
        "                                            ('num_pipeline', num_pipeline, num_cols),\n",
        "                                            ('cat_pipeline', cat_pipeline, cat_cols)\n",
        "                                            ],\n",
        "                                            remainder='drop',\n",
        "                                            n_jobs=-1)"
      ]
    },
    {
      "cell_type": "code",
      "execution_count": null,
      "metadata": {
        "id": "NdGKTHXOziXd"
      },
      "outputs": [],
      "source": [
        "rf = RandomForestRegressor(n_estimators=100, max_depth=5, random_state=0)"
      ]
    },
    {
      "cell_type": "code",
      "execution_count": null,
      "metadata": {
        "id": "oI_ujOeEziZ9"
      },
      "outputs": [],
      "source": [
        "pipeline = Pipeline(steps=[\n",
        "                            ('quality_trans', QualityTransformer()),\n",
        "                            ('col_trans', col_trans),\n",
        "                            ('features_selector', SelectPercentile(mutual_info_regression, percentile=25)),\n",
        "                            ('model', rf)\n",
        "                        ])"
      ]
    },
    {
      "cell_type": "code",
      "execution_count": null,
      "metadata": {
        "id": "a5J_TBLVzicW"
      },
      "outputs": [],
      "source": [
        "display(pipeline)"
      ]
    },
    {
      "cell_type": "code",
      "execution_count": null,
      "metadata": {
        "id": "5xkxDAaOzifB"
      },
      "outputs": [],
      "source": [
        "pipeline.fit(X_train, y_train)\n",
        "score = pipeline.score(X_test, y_test)\n",
        "print(f'Model R2: {score:.4f}')"
      ]
    },
    {
      "cell_type": "code",
      "execution_count": null,
      "metadata": {
        "id": "NmrssjlvzrpM"
      },
      "outputs": [],
      "source": [
        "# grid_params = {\n",
        "#     'model__n_estimators': [300, 750],\n",
        "#     'model__max_depth': [7, 9]\n",
        "# }\n",
        "\n",
        "# pipeline = GridSearchCV(pipeline, grid_params, cv=2, scoring='r2')\n",
        "# pipeline.fit(X_train, y_train)\n",
        "\n",
        "# print('Best Score of train set: ' + str(pipeline.best_score_))\n",
        "# print('Best parameter set: ' + str(pipeline.best_params_))\n",
        "# print('Test Score: ' + str(pipeline.score(X_test, y_test)))"
      ]
    },
    {
      "cell_type": "markdown",
      "metadata": {
        "id": "MASa48hb0lt1"
      },
      "source": [
        "## Pipeline - Feature-Engine Library"
      ]
    },
    {
      "cell_type": "code",
      "execution_count": null,
      "metadata": {
        "id": "zpocS9Xl0rJG"
      },
      "outputs": [],
      "source": [
        "gbt = GradientBoostingRegressor(n_estimators=100, random_state=0)\n",
        "knn = KNeighborsRegressor(n_neighbors=7, n_jobs=-1)\n",
        "rf = RandomForestRegressor(n_estimators=100, max_depth=5, n_jobs=-1, random_state=0)\n",
        "\n",
        "gbt_knn_rf = VotingRegressor(estimators=[('gbt', gbt), ('knn', knn), ('rf', rf)], weights=[5, 2, 3], n_jobs=-1, verbose=True)"
      ]
    },
    {
      "cell_type": "code",
      "execution_count": null,
      "metadata": {
        "id": "5nvVh5q2T_AA"
      },
      "outputs": [],
      "source": [
        "X_train.info()"
      ]
    },
    {
      "cell_type": "code",
      "execution_count": null,
      "metadata": {
        "id": "3s9cdCNU0s8P"
      },
      "outputs": [],
      "source": [
        "pipeline = Pipeline([\n",
        "    # Step 1: Drop features containing only 1 value\n",
        "    ('drop_constant_values', DropConstantFeatures(tol=1, missing_values='ignore')),\n",
        "\n",
        "    # Step 2: Drop duplicated features\n",
        "    ('drop_duplicates', DropDuplicateFeatures()),\n",
        "\n",
        "    # Step 3: Drop correlated features\n",
        "    ('drop_correlated', DropCorrelatedFeatures(method='pearson', threshold=0.7)),\n",
        "\n",
        "    # Step 4: Some transformations\n",
        "    ('quality_trans', QualityTransformer()),\n",
        "\n",
        "    # Step 5: Imputations\n",
        "    ('impute_num', MeanMedianImputer(imputation_method='mean')),\n",
        "    ('impute_cat', CategoricalImputer(imputation_method='frequent')),\n",
        "\n",
        "    # # Step 6: Log transformations\n",
        "    ('log', LogCpTransformer()),\n",
        "\n",
        "    # Step 7: One hot encoding\n",
        "    ('ohe', Ohe()),\n",
        "\n",
        "    # Step 8: Regressor\n",
        "    ('ensemble', rf)\n",
        "])\n",
        "\n",
        "display(pipeline)"
      ]
    },
    {
      "cell_type": "code",
      "execution_count": null,
      "metadata": {
        "id": "R7MNfIH50s-2"
      },
      "outputs": [],
      "source": [
        "pipeline.fit(X_train, y_train)\n",
        "score = pipeline.score(X_test, y_test)\n",
        "print(f'Model R2: {score:.4f}')"
      ]
    },
    {
      "cell_type": "code",
      "execution_count": null,
      "metadata": {
        "id": "ibXHobFT02DE"
      },
      "outputs": [],
      "source": [
        "pipeline[:-1].fit_transform(X_train)[:3]"
      ]
    },
    {
      "cell_type": "code",
      "execution_count": null,
      "metadata": {
        "id": "WwTMkx5T02F6"
      },
      "outputs": [],
      "source": [
        "pipeline[:-1].fit_transform(X_train).columns.tolist()"
      ]
    },
    {
      "cell_type": "code",
      "execution_count": null,
      "metadata": {
        "id": "kHaUJz5f02H0"
      },
      "outputs": [],
      "source": [
        "importances = pipeline.steps[-1][1].feature_importances_\n",
        "feature_imp = pd.DataFrame(importances,\n",
        "                           columns=['importance_score'],\n",
        "                           index=pipeline[:-1].fit_transform(X_train).columns.tolist()).reset_index(drop=False).rename(columns={'index': 'features'}).sort_values(by='importance_score', ascending=False).reset_index(drop=True)\n",
        "feature_imp"
      ]
    },
    {
      "cell_type": "markdown",
      "metadata": {
        "id": "DqM6W53_1D9h"
      },
      "source": [
        "## Pipeline - Feature-Engine + Sklearn"
      ]
    },
    {
      "cell_type": "code",
      "execution_count": null,
      "metadata": {
        "id": "-lkJmpxqVHSH"
      },
      "outputs": [],
      "source": [
        "from feature_engine.wrappers import SklearnTransformerWrapper"
      ]
    },
    {
      "cell_type": "code",
      "execution_count": null,
      "metadata": {
        "id": "mV5WIjtb1o1w"
      },
      "outputs": [],
      "source": [
        "pipeline = Pipeline([\n",
        "    # Step 1: Drop features containing only 1 value\n",
        "    ('drop_constant_values', DropConstantFeatures(tol=1, missing_values='ignore')),\n",
        "\n",
        "    # Step 2: Drop duplicated features\n",
        "    ('drop_duplicates', DropDuplicateFeatures()),\n",
        "\n",
        "    # Step 3: Drop correlated features\n",
        "    ('drop_correlated', DropCorrelatedFeatures(method='pearson', threshold=0.7)),\n",
        "\n",
        "    # Step 4: Some transformations\n",
        "    ('quality_trans', QualityTransformer()),\n",
        "\n",
        "    # Step 5: Imputations\n",
        "    ('impute_num', MeanMedianImputer(imputation_method='mean')),\n",
        "    ('impute_cat', CategoricalImputer(imputation_method='frequent')),\n",
        "\n",
        "    # Step 6: Robust scaling\n",
        "    ('robust_scale', SklearnTransformerWrapper(RobustScaler())),\n",
        "\n",
        "    # Step 7: One hot encoding\n",
        "    ('ohe', Ohe()),\n",
        "\n",
        "    # Step 8: Voting regressor\n",
        "    ('ensemble', gbt_knn_rf)\n",
        "])\n",
        "\n",
        "display(pipeline)"
      ]
    },
    {
      "cell_type": "code",
      "execution_count": null,
      "metadata": {
        "id": "Zpn5kZox1o4g"
      },
      "outputs": [],
      "source": [
        "pipeline[:-1].fit_transform(X_train)[:3]"
      ]
    },
    {
      "cell_type": "code",
      "execution_count": null,
      "metadata": {
        "id": "EUTUxkWJ1o7V"
      },
      "outputs": [],
      "source": [
        "pipeline.fit(X_train, y_train)\n",
        "score = pipeline.score(X_test, y_test)\n",
        "print(f'Model R2: {score:.4f}')"
      ]
    },
    {
      "cell_type": "markdown",
      "metadata": {
        "id": "ntB9DPlb2SYs"
      },
      "source": [
        "## Pipeline - Feature Selection"
      ]
    },
    {
      "cell_type": "code",
      "execution_count": null,
      "metadata": {
        "id": "c7W7ROE81pAh"
      },
      "outputs": [],
      "source": [
        "pipeline = Pipeline([\n",
        "    # Step 1: Drop features containing only 1 value\n",
        "    ('drop_constant_values', DropConstantFeatures(tol=1, missing_values='ignore')),\n",
        "\n",
        "    # Step 2: Drop duplicated features\n",
        "    ('drop_duplicates', DropDuplicateFeatures()),\n",
        "\n",
        "    # Step 3: Drop correlated features\n",
        "    ('drop_correlated', DropCorrelatedFeatures(method='pearson', threshold=0.7)),\n",
        "\n",
        "    # Step 4: Some transformations\n",
        "    ('quality_trans', QualityTransformer()),\n",
        "\n",
        "    # Step 5: Imputations\n",
        "    ('impute_num', MeanMedianImputer(imputation_method='mean')),\n",
        "    ('impute_cat', RandomSampleImputer(random_state=0)),\n",
        "\n",
        "    # Step 6: Robust scaling\n",
        "    ('robust_scale', SklearnTransformerWrapper(RobustScaler())),\n",
        "\n",
        "    # Step 7: One hot encoding\n",
        "    ('ohe', Ohe()),\n",
        "\n",
        "    # Step 8: Feature selection\n",
        "    ('feature_selector', SelectPercentile(mutual_info_regression, percentile=50)),\n",
        "\n",
        "    # Step 9: Voting regressor\n",
        "    ('ensemble', gbt_knn_rf)\n",
        "])\n",
        "\n",
        "display(pipeline)"
      ]
    },
    {
      "cell_type": "code",
      "execution_count": null,
      "metadata": {
        "id": "t9rHvAdR1pC3"
      },
      "outputs": [],
      "source": [
        "pipeline[:-1].fit_transform(X_train, y_train)[:3]"
      ]
    },
    {
      "cell_type": "code",
      "execution_count": null,
      "metadata": {
        "id": "o3KEHNeI2dLr"
      },
      "outputs": [],
      "source": [
        "pipeline.fit(X_train, y_train)\n",
        "score = pipeline.score(X_test, y_test)\n",
        "print(f'Model R2: {score:.4f}')"
      ]
    },
    {
      "cell_type": "markdown",
      "metadata": {
        "id": "nvfUbMGj2gBC"
      },
      "source": [
        "## Pipeline - imbPipeline"
      ]
    },
    {
      "cell_type": "code",
      "execution_count": null,
      "metadata": {
        "id": "b8i9157M2lFo"
      },
      "outputs": [],
      "source": [
        "pipeline = imbPipeline([\n",
        "    # Step 1: Drop features containing only 1 value\n",
        "    ('drop_constant_values', DropConstantFeatures(tol=1, missing_values='ignore')),\n",
        "\n",
        "    # Step 2: Drop duplicated features\n",
        "    ('drop_duplicates', DropDuplicateFeatures()),\n",
        "\n",
        "    # Step 3: Drop correlated features\n",
        "    ('drop_correlated', DropCorrelatedFeatures(method='pearson', threshold=0.7)),\n",
        "\n",
        "    # Step 4: Some transformations\n",
        "    ('quality_trans', QualityTransformer()),\n",
        "\n",
        "    # Step 5: Imputations\n",
        "    ('impute_num', MeanMedianImputer(imputation_method='mean')),\n",
        "    ('impute_cat', RandomSampleImputer(random_state=0)),\n",
        "\n",
        "    # Step 6: Robust scaling\n",
        "    ('robust_scale', SklearnTransformerWrapper(RobustScaler())),\n",
        "\n",
        "    # Step 7: One hot encoding\n",
        "    ('ohe', Ohe()),\n",
        "\n",
        "    # Step 8: Feature selection\n",
        "    ('feature_selector', SelectPercentile(mutual_info_regression, percentile=50)),\n",
        "\n",
        "    # Step 9: Voting regressor\n",
        "    ('ensemble', gbt_knn_rf)\n",
        "])\n",
        "\n",
        "display(pipeline)"
      ]
    },
    {
      "cell_type": "code",
      "execution_count": null,
      "metadata": {
        "id": "rum_xKUx2xRC"
      },
      "outputs": [],
      "source": [
        "pipeline.fit(X_train, y_train)\n",
        "score = pipeline.score(X_test, y_test)\n",
        "print(f'Model R2: {score:.4f}')"
      ]
    },
    {
      "cell_type": "markdown",
      "metadata": {
        "id": "Uj0TYR9821JR"
      },
      "source": [
        "## Hyperparameter Tuning"
      ]
    },
    {
      "cell_type": "code",
      "execution_count": null,
      "metadata": {
        "id": "n9HCZ82y2xTt"
      },
      "outputs": [],
      "source": [
        "pipeline.get_params()"
      ]
    },
    {
      "cell_type": "code",
      "execution_count": null,
      "metadata": {
        "id": "e2OsPzW12xVx"
      },
      "outputs": [],
      "source": [
        "params = {\n",
        "    'ensemble__gbt__n_estimators': [300, 500],\n",
        "    'ensemble__knn__n_neighbors': [7, 9],\n",
        "    'ensemble__rf__max_depth': [5, 7],\n",
        "    'ensemble__rf__n_estimators': [300, 500],\n",
        "}"
      ]
    },
    {
      "cell_type": "code",
      "execution_count": null,
      "metadata": {
        "id": "eGu2pHIY2xYT"
      },
      "outputs": [],
      "source": [
        "%%time\n",
        "grid = RandomizedSearchCV(pipeline, params, scoring='r2', verbose=2, cv=2)\n",
        "grid.fit(X_train, y_train)\n",
        "\n",
        "print('Best Score of train set: ' + str(grid.best_score_))\n",
        "print('Best parameter set: ' + str(grid.best_params_))\n",
        "print('Test Score: ' + str(grid.score(X_test, y_test)))"
      ]
    },
    {
      "cell_type": "markdown",
      "metadata": {
        "id": "07vrRABh3B6j"
      },
      "source": [
        "## Prediction"
      ]
    },
    {
      "cell_type": "code",
      "execution_count": null,
      "metadata": {
        "id": "-io83-4i3Co3"
      },
      "outputs": [],
      "source": [
        "X_test[X_test['direction'].notna()][:1].to_dict('records')"
      ]
    },
    {
      "cell_type": "code",
      "execution_count": null,
      "metadata": {
        "id": "YGgHMH1r3FjW"
      },
      "outputs": [],
      "source": [
        "pipeline.fit(X_train, y_train).predict(X_test[X_test['direction'].notna()][:1])[0]"
      ]
    },
    {
      "cell_type": "markdown",
      "metadata": {
        "id": "DkOEUTwh3Hty"
      },
      "source": [
        "## Save Pipeline"
      ]
    },
    {
      "cell_type": "code",
      "execution_count": null,
      "metadata": {
        "id": "8G7qI4sy3KS3"
      },
      "outputs": [],
      "source": [
        "# import pickle"
      ]
    },
    {
      "cell_type": "code",
      "execution_count": null,
      "metadata": {
        "id": "XdMSl8mB3Izf"
      },
      "outputs": [],
      "source": [
        "# pickle.dump(pipeline1, open('final_model.pkl'), 'wb'))"
      ]
    }
  ],
  "metadata": {
    "colab": {
      "provenance": [],
      "include_colab_link": true
    },
    "kernelspec": {
      "display_name": "Python 3",
      "name": "python3"
    },
    "language_info": {
      "codemirror_mode": {
        "name": "ipython",
        "version": 3
      },
      "file_extension": ".py",
      "mimetype": "text/x-python",
      "name": "python",
      "nbconvert_exporter": "python",
      "pygments_lexer": "ipython3",
      "version": "3.9.10"
    }
  },
  "nbformat": 4,
  "nbformat_minor": 0
}